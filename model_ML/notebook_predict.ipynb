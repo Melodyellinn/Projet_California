{
 "cells": [
  {
   "cell_type": "code",
   "execution_count": 22,
   "id": "4f54d947",
   "metadata": {},
   "outputs": [],
   "source": [
    "import numpy as np"
   ]
  },
  {
   "cell_type": "markdown",
   "id": "c83cb81e",
   "metadata": {},
   "source": [
    "Il faut effectuer une PCA(componants = 4) sur un dataset nettoyé (sans NaN)  \n",
    "Effectuer un get_dummies sur la colonne \"ocean_proximity\"  \n",
    "Utiliser le model :  "
   ]
  },
  {
   "cell_type": "code",
   "execution_count": 14,
   "id": "3d2a7d30",
   "metadata": {},
   "outputs": [
    {
     "name": "stdout",
     "output_type": "stream",
     "text": [
      "0.8710568762342062\n"
     ]
    }
   ],
   "source": [
    "import pickle\n",
    "y_test_load = pickle.load(open('../ytest.sav', 'rb'))\n",
    "x_test_load = pickle.load(open('../xtest.sav', 'rb'))\n",
    "loaded_model = pickle.load(open('../finalized_model.sav', 'rb'))\n",
    "model = loaded_model.score(x_test_load, y_test_load)\n",
    "print(model)"
   ]
  },
  {
   "cell_type": "code",
   "execution_count": 33,
   "id": "83dd43da",
   "metadata": {},
   "outputs": [
    {
     "data": {
      "text/plain": [
       "<function float64.astype>"
      ]
     },
     "execution_count": 33,
     "metadata": {},
     "output_type": "execute_result"
    }
   ],
   "source": [
    "model.astype"
   ]
  },
  {
   "cell_type": "code",
   "execution_count": null,
   "id": "0cf73be4",
   "metadata": {},
   "outputs": [],
   "source": []
  }
 ],
 "metadata": {
  "kernelspec": {
   "display_name": "Python 3",
   "language": "python",
   "name": "python3"
  },
  "language_info": {
   "codemirror_mode": {
    "name": "ipython",
    "version": 3
   },
   "file_extension": ".py",
   "mimetype": "text/x-python",
   "name": "python",
   "nbconvert_exporter": "python",
   "pygments_lexer": "ipython3",
   "version": "3.8.8"
  }
 },
 "nbformat": 4,
 "nbformat_minor": 5
}
