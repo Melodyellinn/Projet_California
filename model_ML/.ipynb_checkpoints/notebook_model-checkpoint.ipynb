{
 "cells": [
  {
   "cell_type": "markdown",
   "id": "87925aa8",
   "metadata": {},
   "source": [
    "# L'IA au service des agents immobiliers - Silicon Valley"
   ]
  },
  {
   "cell_type": "markdown",
   "id": "9ffff8d7",
   "metadata": {},
   "source": [
    "## Model de Machine Learning"
   ]
  },
  {
   "cell_type": "markdown",
   "id": "6144c644",
   "metadata": {},
   "source": [
    "### Importation"
   ]
  },
  {
   "cell_type": "code",
   "execution_count": 3,
   "id": "7893e7b2",
   "metadata": {},
   "outputs": [],
   "source": [
    "# Import des librairies\n",
    "import numpy as np\n",
    "import pandas as pd\n",
    "import seaborn as sns\n",
    "import matplotlib.pyplot as plt"
   ]
  },
  {
   "cell_type": "code",
   "execution_count": 49,
   "id": "96aa5b42",
   "metadata": {},
   "outputs": [],
   "source": [
    "#RegLog Kmeans\n",
    "from sklearn.cluster import KMeans\n",
    "from sklearn import decomposition\n",
    "from sklearn import preprocessing\n",
    "from sklearn.model_selection import train_test_split\n",
    "from sklearn.linear_model import LinearRegression\n",
    "from sklearn.metrics import confusion_matrix\n",
    "import sklearn.metrics as metrics\n",
    "from sklearn.metrics import mean_squared_error"
   ]
  },
  {
   "cell_type": "markdown",
   "id": "b05347f0",
   "metadata": {},
   "source": [
    "### Lecture du dataset nettoyé"
   ]
  },
  {
   "cell_type": "code",
   "execution_count": 83,
   "id": "d247f04f",
   "metadata": {
    "scrolled": true
   },
   "outputs": [
    {
     "data": {
      "text/html": [
       "<div>\n",
       "<style scoped>\n",
       "    .dataframe tbody tr th:only-of-type {\n",
       "        vertical-align: middle;\n",
       "    }\n",
       "\n",
       "    .dataframe tbody tr th {\n",
       "        vertical-align: top;\n",
       "    }\n",
       "\n",
       "    .dataframe thead th {\n",
       "        text-align: right;\n",
       "    }\n",
       "</style>\n",
       "<table border=\"1\" class=\"dataframe\">\n",
       "  <thead>\n",
       "    <tr style=\"text-align: right;\">\n",
       "      <th></th>\n",
       "      <th>longitude</th>\n",
       "      <th>latitude</th>\n",
       "      <th>housing_median_age</th>\n",
       "      <th>total_rooms</th>\n",
       "      <th>total_bedrooms</th>\n",
       "      <th>population</th>\n",
       "      <th>households</th>\n",
       "      <th>median_income</th>\n",
       "      <th>median_house_value</th>\n",
       "      <th>ocean_proximity</th>\n",
       "    </tr>\n",
       "  </thead>\n",
       "  <tbody>\n",
       "    <tr>\n",
       "      <th>0</th>\n",
       "      <td>-119.84</td>\n",
       "      <td>36.77</td>\n",
       "      <td>6.0</td>\n",
       "      <td>1853.0</td>\n",
       "      <td>473.0</td>\n",
       "      <td>1397.0</td>\n",
       "      <td>417.0</td>\n",
       "      <td>1.4817</td>\n",
       "      <td>72000.0</td>\n",
       "      <td>2.0</td>\n",
       "    </tr>\n",
       "    <tr>\n",
       "      <th>1</th>\n",
       "      <td>-117.80</td>\n",
       "      <td>33.68</td>\n",
       "      <td>8.0</td>\n",
       "      <td>2032.0</td>\n",
       "      <td>349.0</td>\n",
       "      <td>862.0</td>\n",
       "      <td>340.0</td>\n",
       "      <td>6.9133</td>\n",
       "      <td>274100.0</td>\n",
       "      <td>1.0</td>\n",
       "    </tr>\n",
       "    <tr>\n",
       "      <th>2</th>\n",
       "      <td>-120.19</td>\n",
       "      <td>36.60</td>\n",
       "      <td>25.0</td>\n",
       "      <td>875.0</td>\n",
       "      <td>214.0</td>\n",
       "      <td>931.0</td>\n",
       "      <td>214.0</td>\n",
       "      <td>1.5536</td>\n",
       "      <td>58300.0</td>\n",
       "      <td>2.0</td>\n",
       "    </tr>\n",
       "    <tr>\n",
       "      <th>3</th>\n",
       "      <td>-118.32</td>\n",
       "      <td>34.10</td>\n",
       "      <td>31.0</td>\n",
       "      <td>622.0</td>\n",
       "      <td>229.0</td>\n",
       "      <td>597.0</td>\n",
       "      <td>227.0</td>\n",
       "      <td>1.5284</td>\n",
       "      <td>200000.0</td>\n",
       "      <td>1.0</td>\n",
       "    </tr>\n",
       "    <tr>\n",
       "      <th>4</th>\n",
       "      <td>-121.23</td>\n",
       "      <td>37.79</td>\n",
       "      <td>21.0</td>\n",
       "      <td>1922.0</td>\n",
       "      <td>373.0</td>\n",
       "      <td>1130.0</td>\n",
       "      <td>372.0</td>\n",
       "      <td>4.0815</td>\n",
       "      <td>117900.0</td>\n",
       "      <td>2.0</td>\n",
       "    </tr>\n",
       "    <tr>\n",
       "      <th>...</th>\n",
       "      <td>...</td>\n",
       "      <td>...</td>\n",
       "      <td>...</td>\n",
       "      <td>...</td>\n",
       "      <td>...</td>\n",
       "      <td>...</td>\n",
       "      <td>...</td>\n",
       "      <td>...</td>\n",
       "      <td>...</td>\n",
       "      <td>...</td>\n",
       "    </tr>\n",
       "    <tr>\n",
       "      <th>16507</th>\n",
       "      <td>-121.90</td>\n",
       "      <td>39.59</td>\n",
       "      <td>20.0</td>\n",
       "      <td>1465.0</td>\n",
       "      <td>278.0</td>\n",
       "      <td>745.0</td>\n",
       "      <td>250.0</td>\n",
       "      <td>3.0625</td>\n",
       "      <td>93800.0</td>\n",
       "      <td>2.0</td>\n",
       "    </tr>\n",
       "    <tr>\n",
       "      <th>16508</th>\n",
       "      <td>-122.25</td>\n",
       "      <td>38.11</td>\n",
       "      <td>49.0</td>\n",
       "      <td>2365.0</td>\n",
       "      <td>504.0</td>\n",
       "      <td>1131.0</td>\n",
       "      <td>458.0</td>\n",
       "      <td>2.6133</td>\n",
       "      <td>103100.0</td>\n",
       "      <td>4.0</td>\n",
       "    </tr>\n",
       "    <tr>\n",
       "      <th>16509</th>\n",
       "      <td>-121.22</td>\n",
       "      <td>38.92</td>\n",
       "      <td>19.0</td>\n",
       "      <td>2531.0</td>\n",
       "      <td>461.0</td>\n",
       "      <td>1206.0</td>\n",
       "      <td>429.0</td>\n",
       "      <td>4.4958</td>\n",
       "      <td>192600.0</td>\n",
       "      <td>2.0</td>\n",
       "    </tr>\n",
       "    <tr>\n",
       "      <th>16510</th>\n",
       "      <td>-118.14</td>\n",
       "      <td>34.16</td>\n",
       "      <td>39.0</td>\n",
       "      <td>2776.0</td>\n",
       "      <td>840.0</td>\n",
       "      <td>2546.0</td>\n",
       "      <td>773.0</td>\n",
       "      <td>2.5750</td>\n",
       "      <td>153500.0</td>\n",
       "      <td>1.0</td>\n",
       "    </tr>\n",
       "    <tr>\n",
       "      <th>16511</th>\n",
       "      <td>-124.13</td>\n",
       "      <td>40.80</td>\n",
       "      <td>31.0</td>\n",
       "      <td>2152.0</td>\n",
       "      <td>462.0</td>\n",
       "      <td>1259.0</td>\n",
       "      <td>420.0</td>\n",
       "      <td>2.2478</td>\n",
       "      <td>81100.0</td>\n",
       "      <td>3.0</td>\n",
       "    </tr>\n",
       "  </tbody>\n",
       "</table>\n",
       "<p>16512 rows × 10 columns</p>\n",
       "</div>"
      ],
      "text/plain": [
       "       longitude  latitude  housing_median_age  total_rooms  total_bedrooms  \\\n",
       "0        -119.84     36.77                 6.0       1853.0           473.0   \n",
       "1        -117.80     33.68                 8.0       2032.0           349.0   \n",
       "2        -120.19     36.60                25.0        875.0           214.0   \n",
       "3        -118.32     34.10                31.0        622.0           229.0   \n",
       "4        -121.23     37.79                21.0       1922.0           373.0   \n",
       "...          ...       ...                 ...          ...             ...   \n",
       "16507    -121.90     39.59                20.0       1465.0           278.0   \n",
       "16508    -122.25     38.11                49.0       2365.0           504.0   \n",
       "16509    -121.22     38.92                19.0       2531.0           461.0   \n",
       "16510    -118.14     34.16                39.0       2776.0           840.0   \n",
       "16511    -124.13     40.80                31.0       2152.0           462.0   \n",
       "\n",
       "       population  households  median_income  median_house_value  \\\n",
       "0          1397.0       417.0         1.4817             72000.0   \n",
       "1           862.0       340.0         6.9133            274100.0   \n",
       "2           931.0       214.0         1.5536             58300.0   \n",
       "3           597.0       227.0         1.5284            200000.0   \n",
       "4          1130.0       372.0         4.0815            117900.0   \n",
       "...           ...         ...            ...                 ...   \n",
       "16507       745.0       250.0         3.0625             93800.0   \n",
       "16508      1131.0       458.0         2.6133            103100.0   \n",
       "16509      1206.0       429.0         4.4958            192600.0   \n",
       "16510      2546.0       773.0         2.5750            153500.0   \n",
       "16511      1259.0       420.0         2.2478             81100.0   \n",
       "\n",
       "       ocean_proximity  \n",
       "0                  2.0  \n",
       "1                  1.0  \n",
       "2                  2.0  \n",
       "3                  1.0  \n",
       "4                  2.0  \n",
       "...                ...  \n",
       "16507              2.0  \n",
       "16508              4.0  \n",
       "16509              2.0  \n",
       "16510              1.0  \n",
       "16511              3.0  \n",
       "\n",
       "[16512 rows x 10 columns]"
      ]
     },
     "execution_count": 83,
     "metadata": {},
     "output_type": "execute_result"
    }
   ],
   "source": [
    "df_californie = pd.read_csv('df_californie.csv')\n",
    "df_californie"
   ]
  },
  {
   "cell_type": "markdown",
   "id": "16db9d6c",
   "metadata": {},
   "source": [
    "### Linear Regression"
   ]
  },
  {
   "cell_type": "code",
   "execution_count": 84,
   "id": "1ff875ca",
   "metadata": {},
   "outputs": [],
   "source": [
    "X= df_californie.drop('median_house_value', axis=1)\n",
    "y= df_californie['median_house_value']\n",
    "\n",
    "# Splitting the data in train and test set\n",
    "X_train, X_test, y_train, y_test = train_test_split(X, y, \n",
    "                                                    test_size=.3, \n",
    "                                                    random_state=40)"
   ]
  },
  {
   "cell_type": "code",
   "execution_count": 85,
   "id": "023369a5",
   "metadata": {
    "scrolled": true
   },
   "outputs": [
    {
     "data": {
      "text/plain": [
       "0.6156028588903397"
      ]
     },
     "execution_count": 85,
     "metadata": {},
     "output_type": "execute_result"
    }
   ],
   "source": [
    "#creat the model\n",
    "log_model = LinearRegression()\n",
    "#fit\n",
    "log_model.fit(X_train, y_train)\n",
    "#predict\n",
    "y_pred = log_model.predict(X_test)\n",
    "\n",
    "log_model.score(X_test,y_test)"
   ]
  },
  {
   "cell_type": "code",
   "execution_count": 86,
   "id": "f7135537",
   "metadata": {},
   "outputs": [
    {
     "data": {
      "text/html": [
       "<div>\n",
       "<style scoped>\n",
       "    .dataframe tbody tr th:only-of-type {\n",
       "        vertical-align: middle;\n",
       "    }\n",
       "\n",
       "    .dataframe tbody tr th {\n",
       "        vertical-align: top;\n",
       "    }\n",
       "\n",
       "    .dataframe thead th {\n",
       "        text-align: right;\n",
       "    }\n",
       "</style>\n",
       "<table border=\"1\" class=\"dataframe\">\n",
       "  <thead>\n",
       "    <tr style=\"text-align: right;\">\n",
       "      <th></th>\n",
       "      <th>longitude</th>\n",
       "      <th>latitude</th>\n",
       "      <th>housing_median_age</th>\n",
       "      <th>total_rooms</th>\n",
       "      <th>total_bedrooms</th>\n",
       "      <th>population</th>\n",
       "      <th>households</th>\n",
       "      <th>median_income</th>\n",
       "      <th>ocean_proximity</th>\n",
       "    </tr>\n",
       "  </thead>\n",
       "  <tbody>\n",
       "    <tr>\n",
       "      <th>1889</th>\n",
       "      <td>-122.08</td>\n",
       "      <td>37.89</td>\n",
       "      <td>39.0</td>\n",
       "      <td>3018.0</td>\n",
       "      <td>501.0</td>\n",
       "      <td>1223.0</td>\n",
       "      <td>489.0</td>\n",
       "      <td>6.2924</td>\n",
       "      <td>4.0</td>\n",
       "    </tr>\n",
       "    <tr>\n",
       "      <th>11703</th>\n",
       "      <td>-117.85</td>\n",
       "      <td>33.74</td>\n",
       "      <td>26.0</td>\n",
       "      <td>2589.0</td>\n",
       "      <td>1003.0</td>\n",
       "      <td>5756.0</td>\n",
       "      <td>983.0</td>\n",
       "      <td>2.1992</td>\n",
       "      <td>1.0</td>\n",
       "    </tr>\n",
       "    <tr>\n",
       "      <th>11321</th>\n",
       "      <td>-118.32</td>\n",
       "      <td>33.84</td>\n",
       "      <td>42.0</td>\n",
       "      <td>1486.0</td>\n",
       "      <td>420.0</td>\n",
       "      <td>897.0</td>\n",
       "      <td>377.0</td>\n",
       "      <td>1.6228</td>\n",
       "      <td>1.0</td>\n",
       "    </tr>\n",
       "    <tr>\n",
       "      <th>6118</th>\n",
       "      <td>-117.20</td>\n",
       "      <td>34.12</td>\n",
       "      <td>24.0</td>\n",
       "      <td>3532.0</td>\n",
       "      <td>618.0</td>\n",
       "      <td>1681.0</td>\n",
       "      <td>590.0</td>\n",
       "      <td>3.5000</td>\n",
       "      <td>2.0</td>\n",
       "    </tr>\n",
       "    <tr>\n",
       "      <th>12785</th>\n",
       "      <td>-118.07</td>\n",
       "      <td>33.79</td>\n",
       "      <td>34.0</td>\n",
       "      <td>2473.0</td>\n",
       "      <td>383.0</td>\n",
       "      <td>967.0</td>\n",
       "      <td>353.0</td>\n",
       "      <td>5.8283</td>\n",
       "      <td>1.0</td>\n",
       "    </tr>\n",
       "    <tr>\n",
       "      <th>...</th>\n",
       "      <td>...</td>\n",
       "      <td>...</td>\n",
       "      <td>...</td>\n",
       "      <td>...</td>\n",
       "      <td>...</td>\n",
       "      <td>...</td>\n",
       "      <td>...</td>\n",
       "      <td>...</td>\n",
       "      <td>...</td>\n",
       "    </tr>\n",
       "    <tr>\n",
       "      <th>8127</th>\n",
       "      <td>-121.91</td>\n",
       "      <td>37.33</td>\n",
       "      <td>52.0</td>\n",
       "      <td>2562.0</td>\n",
       "      <td>410.0</td>\n",
       "      <td>973.0</td>\n",
       "      <td>398.0</td>\n",
       "      <td>4.8854</td>\n",
       "      <td>1.0</td>\n",
       "    </tr>\n",
       "    <tr>\n",
       "      <th>7191</th>\n",
       "      <td>-118.96</td>\n",
       "      <td>36.49</td>\n",
       "      <td>24.0</td>\n",
       "      <td>1268.0</td>\n",
       "      <td>269.0</td>\n",
       "      <td>636.0</td>\n",
       "      <td>183.0</td>\n",
       "      <td>1.7420</td>\n",
       "      <td>2.0</td>\n",
       "    </tr>\n",
       "    <tr>\n",
       "      <th>3279</th>\n",
       "      <td>-118.06</td>\n",
       "      <td>33.91</td>\n",
       "      <td>36.0</td>\n",
       "      <td>1360.0</td>\n",
       "      <td>271.0</td>\n",
       "      <td>909.0</td>\n",
       "      <td>275.0</td>\n",
       "      <td>4.6731</td>\n",
       "      <td>1.0</td>\n",
       "    </tr>\n",
       "    <tr>\n",
       "      <th>6054</th>\n",
       "      <td>-118.29</td>\n",
       "      <td>33.95</td>\n",
       "      <td>39.0</td>\n",
       "      <td>1701.0</td>\n",
       "      <td>428.0</td>\n",
       "      <td>1468.0</td>\n",
       "      <td>411.0</td>\n",
       "      <td>1.9702</td>\n",
       "      <td>1.0</td>\n",
       "    </tr>\n",
       "    <tr>\n",
       "      <th>638</th>\n",
       "      <td>-117.69</td>\n",
       "      <td>34.07</td>\n",
       "      <td>35.0</td>\n",
       "      <td>3222.0</td>\n",
       "      <td>559.0</td>\n",
       "      <td>1970.0</td>\n",
       "      <td>550.0</td>\n",
       "      <td>3.7083</td>\n",
       "      <td>2.0</td>\n",
       "    </tr>\n",
       "  </tbody>\n",
       "</table>\n",
       "<p>4954 rows × 9 columns</p>\n",
       "</div>"
      ],
      "text/plain": [
       "       longitude  latitude  housing_median_age  total_rooms  total_bedrooms  \\\n",
       "1889     -122.08     37.89                39.0       3018.0           501.0   \n",
       "11703    -117.85     33.74                26.0       2589.0          1003.0   \n",
       "11321    -118.32     33.84                42.0       1486.0           420.0   \n",
       "6118     -117.20     34.12                24.0       3532.0           618.0   \n",
       "12785    -118.07     33.79                34.0       2473.0           383.0   \n",
       "...          ...       ...                 ...          ...             ...   \n",
       "8127     -121.91     37.33                52.0       2562.0           410.0   \n",
       "7191     -118.96     36.49                24.0       1268.0           269.0   \n",
       "3279     -118.06     33.91                36.0       1360.0           271.0   \n",
       "6054     -118.29     33.95                39.0       1701.0           428.0   \n",
       "638      -117.69     34.07                35.0       3222.0           559.0   \n",
       "\n",
       "       population  households  median_income  ocean_proximity  \n",
       "1889       1223.0       489.0         6.2924              4.0  \n",
       "11703      5756.0       983.0         2.1992              1.0  \n",
       "11321       897.0       377.0         1.6228              1.0  \n",
       "6118       1681.0       590.0         3.5000              2.0  \n",
       "12785       967.0       353.0         5.8283              1.0  \n",
       "...           ...         ...            ...              ...  \n",
       "8127        973.0       398.0         4.8854              1.0  \n",
       "7191        636.0       183.0         1.7420              2.0  \n",
       "3279        909.0       275.0         4.6731              1.0  \n",
       "6054       1468.0       411.0         1.9702              1.0  \n",
       "638        1970.0       550.0         3.7083              2.0  \n",
       "\n",
       "[4954 rows x 9 columns]"
      ]
     },
     "execution_count": 86,
     "metadata": {},
     "output_type": "execute_result"
    }
   ],
   "source": [
    "X_test"
   ]
  },
  {
   "cell_type": "code",
   "execution_count": 82,
   "id": "83d276be",
   "metadata": {},
   "outputs": [
    {
     "data": {
      "text/plain": [
       "(4954,)"
      ]
     },
     "execution_count": 82,
     "metadata": {},
     "output_type": "execute_result"
    }
   ],
   "source": [
    "#Vérification de la taille des objets\n",
    "#X_test['median_income'].shape\n",
    "#y_pred.shape\n",
    "y_test.shape"
   ]
  },
  {
   "cell_type": "code",
   "execution_count": 87,
   "id": "9ad8a860",
   "metadata": {},
   "outputs": [
    {
     "data": {
      "image/png": "[encoded data removed]",
      "text/plain": [
       "<Figure size 432x288 with 1 Axes>"
      ]
     },
     "metadata": {
      "needs_background": "light"
     },
     "output_type": "display_data"
    }
   ],
   "source": [
    "#plot result\n",
    "sns.scatterplot(x = X_test['median_income'],  y= y_pred, color = \"red\")\n",
    "plt.show()"
   ]
  },
  {
   "cell_type": "code",
   "execution_count": 88,
   "id": "105c2dac",
   "metadata": {},
   "outputs": [
    {
     "data": {
      "image/png": "[encoded data removed]",
      "text/plain": [
       "<Figure size 432x288 with 1 Axes>"
      ]
     },
     "metadata": {
      "needs_background": "light"
     },
     "output_type": "display_data"
    }
   ],
   "source": [
    "sns.scatterplot(x = X_test['median_income'], y= y_test, color = \"blue\")\n",
    "plt.show()"
   ]
  },
  {
   "cell_type": "markdown",
   "id": "3c1c21e1",
   "metadata": {},
   "source": [
    "Par défaut, la méthode LinearRegression return un R2 score.  \n",
    "https://scikit-learn.org/stable/modules/generated/sklearn.linear_model.LinearRegression.html =>  \n",
    "https://scikit-learn.org/stable/modules/generated/sklearn.metrics.r2_score.html#sklearn.metrics.r2_score  \n",
    "\n",
    "Le score est un peu au dessus de la moyenne ( 0.62 ) mais n'est pas extraordinaire.  "
   ]
  },
  {
   "cell_type": "markdown",
   "id": "5ccc049a",
   "metadata": {},
   "source": [
    "Les plots montrent les prédictions.  \n",
    "Si la prédiction était parfaite (1 de R2) chaque point rouge serait superposé à chaque point bleu. Ce n'est pas notre cas ici.  "
   ]
  },
  {
   "cell_type": "markdown",
   "id": "62985719",
   "metadata": {},
   "source": [
    "### Metrics and Scores"
   ]
  },
  {
   "cell_type": "code",
   "execution_count": 48,
   "id": "fa5905c4",
   "metadata": {},
   "outputs": [
    {
     "data": {
      "text/plain": [
       "5105648024.83166"
      ]
     },
     "execution_count": 48,
     "metadata": {},
     "output_type": "execute_result"
    }
   ],
   "source": [
    "mean_squared_error(y_test, y_pred)"
   ]
  },
  {
   "cell_type": "markdown",
   "id": "39cf887e",
   "metadata": {},
   "source": [
    "### Test avec PCA"
   ]
  },
  {
   "cell_type": "code",
   "execution_count": 51,
   "id": "b12d2170",
   "metadata": {},
   "outputs": [
    {
     "data": {
      "text/html": [
       "<div>\n",
       "<style scoped>\n",
       "    .dataframe tbody tr th:only-of-type {\n",
       "        vertical-align: middle;\n",
       "    }\n",
       "\n",
       "    .dataframe tbody tr th {\n",
       "        vertical-align: top;\n",
       "    }\n",
       "\n",
       "    .dataframe thead th {\n",
       "        text-align: right;\n",
       "    }\n",
       "</style>\n",
       "<table border=\"1\" class=\"dataframe\">\n",
       "  <thead>\n",
       "    <tr style=\"text-align: right;\">\n",
       "      <th></th>\n",
       "      <th>pca_1</th>\n",
       "      <th>pca_2</th>\n",
       "      <th>pca_3</th>\n",
       "      <th>pca_4</th>\n",
       "      <th>target</th>\n",
       "    </tr>\n",
       "  </thead>\n",
       "  <tbody>\n",
       "    <tr>\n",
       "      <th>0</th>\n",
       "      <td>-0.153969</td>\n",
       "      <td>0.493882</td>\n",
       "      <td>-1.786418</td>\n",
       "      <td>-1.574324</td>\n",
       "      <td>72000.0</td>\n",
       "    </tr>\n",
       "    <tr>\n",
       "      <th>1</th>\n",
       "      <td>-0.088298</td>\n",
       "      <td>-1.825536</td>\n",
       "      <td>1.325224</td>\n",
       "      <td>-1.818578</td>\n",
       "      <td>274100.0</td>\n",
       "    </tr>\n",
       "    <tr>\n",
       "      <th>2</th>\n",
       "      <td>-1.451642</td>\n",
       "      <td>0.449548</td>\n",
       "      <td>-1.683137</td>\n",
       "      <td>-0.522503</td>\n",
       "      <td>58300.0</td>\n",
       "    </tr>\n",
       "    <tr>\n",
       "      <th>3</th>\n",
       "      <td>-1.414284</td>\n",
       "      <td>-1.370008</td>\n",
       "      <td>-0.949905</td>\n",
       "      <td>0.057555</td>\n",
       "      <td>200000.0</td>\n",
       "    </tr>\n",
       "    <tr>\n",
       "      <th>4</th>\n",
       "      <td>-0.687402</td>\n",
       "      <td>1.107444</td>\n",
       "      <td>-0.381355</td>\n",
       "      <td>-1.056242</td>\n",
       "      <td>117900.0</td>\n",
       "    </tr>\n",
       "    <tr>\n",
       "      <th>...</th>\n",
       "      <td>...</td>\n",
       "      <td>...</td>\n",
       "      <td>...</td>\n",
       "      <td>...</td>\n",
       "      <td>...</td>\n",
       "    </tr>\n",
       "    <tr>\n",
       "      <th>16507</th>\n",
       "      <td>-1.329967</td>\n",
       "      <td>1.806627</td>\n",
       "      <td>-0.842595</td>\n",
       "      <td>-1.373061</td>\n",
       "      <td>93800.0</td>\n",
       "    </tr>\n",
       "    <tr>\n",
       "      <th>16508</th>\n",
       "      <td>-1.055960</td>\n",
       "      <td>2.571173</td>\n",
       "      <td>-0.684864</td>\n",
       "      <td>1.627500</td>\n",
       "      <td>103100.0</td>\n",
       "    </tr>\n",
       "    <tr>\n",
       "      <th>16509</th>\n",
       "      <td>-0.321045</td>\n",
       "      <td>1.431865</td>\n",
       "      <td>0.205324</td>\n",
       "      <td>-1.207103</td>\n",
       "      <td>192600.0</td>\n",
       "    </tr>\n",
       "    <tr>\n",
       "      <th>16510</th>\n",
       "      <td>1.110756</td>\n",
       "      <td>-0.987009</td>\n",
       "      <td>-1.008277</td>\n",
       "      <td>0.982062</td>\n",
       "      <td>153500.0</td>\n",
       "    </tr>\n",
       "    <tr>\n",
       "      <th>16511</th>\n",
       "      <td>-0.979238</td>\n",
       "      <td>3.471897</td>\n",
       "      <td>-1.025528</td>\n",
       "      <td>-0.301414</td>\n",
       "      <td>81100.0</td>\n",
       "    </tr>\n",
       "  </tbody>\n",
       "</table>\n",
       "<p>16512 rows × 5 columns</p>\n",
       "</div>"
      ],
      "text/plain": [
       "          pca_1     pca_2     pca_3     pca_4    target\n",
       "0     -0.153969  0.493882 -1.786418 -1.574324   72000.0\n",
       "1     -0.088298 -1.825536  1.325224 -1.818578  274100.0\n",
       "2     -1.451642  0.449548 -1.683137 -0.522503   58300.0\n",
       "3     -1.414284 -1.370008 -0.949905  0.057555  200000.0\n",
       "4     -0.687402  1.107444 -0.381355 -1.056242  117900.0\n",
       "...         ...       ...       ...       ...       ...\n",
       "16507 -1.329967  1.806627 -0.842595 -1.373061   93800.0\n",
       "16508 -1.055960  2.571173 -0.684864  1.627500  103100.0\n",
       "16509 -0.321045  1.431865  0.205324 -1.207103  192600.0\n",
       "16510  1.110756 -0.987009 -1.008277  0.982062  153500.0\n",
       "16511 -0.979238  3.471897 -1.025528 -0.301414   81100.0\n",
       "\n",
       "[16512 rows x 5 columns]"
      ]
     },
     "execution_count": 51,
     "metadata": {},
     "output_type": "execute_result"
    }
   ],
   "source": [
    "df_pca = pd.read_csv('californie_df_pca.csv')\n",
    "df_pca"
   ]
  },
  {
   "cell_type": "code",
   "execution_count": 52,
   "id": "9837168a",
   "metadata": {},
   "outputs": [],
   "source": [
    "X= df_pca.drop('target', axis=1)\n",
    "y= df_pca['target']\n",
    "\n",
    "# Splitting the data in train and test set\n",
    "X_train, X_test, y_train, y_test = train_test_split(X, y, \n",
    "                                                    test_size=.3, \n",
    "                                                    random_state=40)"
   ]
  },
  {
   "cell_type": "code",
   "execution_count": 53,
   "id": "678c69f7",
   "metadata": {},
   "outputs": [
    {
     "data": {
      "text/plain": [
       "0.8710568762342062"
      ]
     },
     "execution_count": 53,
     "metadata": {},
     "output_type": "execute_result"
    }
   ],
   "source": [
    "#creat the model\n",
    "log_model = LinearRegression()\n",
    "#fit\n",
    "log_model.fit(X_train, y_train)\n",
    "#predict\n",
    "y_pred1 = log_model.predict(X_test)\n",
    "\n",
    "log_model.score(X_test,y_test)"
   ]
  },
  {
   "cell_type": "code",
   "execution_count": 70,
   "id": "9286d663",
   "metadata": {},
   "outputs": [
    {
     "data": {
      "image/png": "[encoded data removed]",
      "text/plain": [
       "<Figure size 432x288 with 1 Axes>"
      ]
     },
     "metadata": {
      "needs_background": "light"
     },
     "output_type": "display_data"
    }
   ],
   "source": [
    "#plot result\n",
    "sns.scatterplot(x = X_test['pca_1'], y= y_pred1, color = \"red\")\n",
    "sns.scatterplot(x = X_test['pca_1'], y= y_test, data= df_pca, color = \"blue\")\n",
    "plt.show()"
   ]
  },
  {
   "cell_type": "code",
   "execution_count": 59,
   "id": "9088afb9",
   "metadata": {},
   "outputs": [
    {
     "data": {
      "text/html": [
       "<div>\n",
       "<style scoped>\n",
       "    .dataframe tbody tr th:only-of-type {\n",
       "        vertical-align: middle;\n",
       "    }\n",
       "\n",
       "    .dataframe tbody tr th {\n",
       "        vertical-align: top;\n",
       "    }\n",
       "\n",
       "    .dataframe thead th {\n",
       "        text-align: right;\n",
       "    }\n",
       "</style>\n",
       "<table border=\"1\" class=\"dataframe\">\n",
       "  <thead>\n",
       "    <tr style=\"text-align: right;\">\n",
       "      <th></th>\n",
       "      <th>pca_1</th>\n",
       "      <th>pca_2</th>\n",
       "      <th>pca_3</th>\n",
       "      <th>target</th>\n",
       "    </tr>\n",
       "  </thead>\n",
       "  <tbody>\n",
       "    <tr>\n",
       "      <th>0</th>\n",
       "      <td>-0.144834</td>\n",
       "      <td>0.838081</td>\n",
       "      <td>-1.654927</td>\n",
       "      <td>72000.0</td>\n",
       "    </tr>\n",
       "    <tr>\n",
       "      <th>1</th>\n",
       "      <td>-0.175479</td>\n",
       "      <td>-1.692233</td>\n",
       "      <td>1.119462</td>\n",
       "      <td>274100.0</td>\n",
       "    </tr>\n",
       "    <tr>\n",
       "      <th>2</th>\n",
       "      <td>-1.443136</td>\n",
       "      <td>0.790777</td>\n",
       "      <td>-1.562187</td>\n",
       "      <td>58300.0</td>\n",
       "    </tr>\n",
       "    <tr>\n",
       "      <th>3</th>\n",
       "      <td>-1.494246</td>\n",
       "      <td>-0.878052</td>\n",
       "      <td>-1.062725</td>\n",
       "      <td>200000.0</td>\n",
       "    </tr>\n",
       "    <tr>\n",
       "      <th>4</th>\n",
       "      <td>-0.663117</td>\n",
       "      <td>1.294047</td>\n",
       "      <td>-0.141289</td>\n",
       "      <td>117900.0</td>\n",
       "    </tr>\n",
       "    <tr>\n",
       "      <th>...</th>\n",
       "      <td>...</td>\n",
       "      <td>...</td>\n",
       "      <td>...</td>\n",
       "      <td>...</td>\n",
       "    </tr>\n",
       "    <tr>\n",
       "      <th>16507</th>\n",
       "      <td>-1.293395</td>\n",
       "      <td>2.162680</td>\n",
       "      <td>-0.444798</td>\n",
       "      <td>93800.0</td>\n",
       "    </tr>\n",
       "    <tr>\n",
       "      <th>16508</th>\n",
       "      <td>-0.890642</td>\n",
       "      <td>1.939748</td>\n",
       "      <td>-0.491961</td>\n",
       "      <td>103100.0</td>\n",
       "    </tr>\n",
       "    <tr>\n",
       "      <th>16509</th>\n",
       "      <td>-0.288853</td>\n",
       "      <td>1.545339</td>\n",
       "      <td>0.502312</td>\n",
       "      <td>192600.0</td>\n",
       "    </tr>\n",
       "    <tr>\n",
       "      <th>16510</th>\n",
       "      <td>1.042849</td>\n",
       "      <td>-0.602398</td>\n",
       "      <td>-1.093361</td>\n",
       "      <td>153500.0</td>\n",
       "    </tr>\n",
       "    <tr>\n",
       "      <th>16511</th>\n",
       "      <td>-0.852785</td>\n",
       "      <td>3.486984</td>\n",
       "      <td>-0.467680</td>\n",
       "      <td>81100.0</td>\n",
       "    </tr>\n",
       "  </tbody>\n",
       "</table>\n",
       "<p>16512 rows × 4 columns</p>\n",
       "</div>"
      ],
      "text/plain": [
       "          pca_1     pca_2     pca_3    target\n",
       "0     -0.144834  0.838081 -1.654927   72000.0\n",
       "1     -0.175479 -1.692233  1.119462  274100.0\n",
       "2     -1.443136  0.790777 -1.562187   58300.0\n",
       "3     -1.494246 -0.878052 -1.062725  200000.0\n",
       "4     -0.663117  1.294047 -0.141289  117900.0\n",
       "...         ...       ...       ...       ...\n",
       "16507 -1.293395  2.162680 -0.444798   93800.0\n",
       "16508 -0.890642  1.939748 -0.491961  103100.0\n",
       "16509 -0.288853  1.545339  0.502312  192600.0\n",
       "16510  1.042849 -0.602398 -1.093361  153500.0\n",
       "16511 -0.852785  3.486984 -0.467680   81100.0\n",
       "\n",
       "[16512 rows x 4 columns]"
      ]
     },
     "execution_count": 59,
     "metadata": {},
     "output_type": "execute_result"
    }
   ],
   "source": [
    "df_pca_dum = pd.read_csv('californie_dummies_pca.csv')\n",
    "df_pca_dum"
   ]
  },
  {
   "cell_type": "code",
   "execution_count": 60,
   "id": "a76e9098",
   "metadata": {},
   "outputs": [],
   "source": [
    "X= df_pca_dum.drop('target', axis=1)\n",
    "y= df_pca_dum['target']\n",
    "\n",
    "# Splitting the data in train and test set\n",
    "X_train, X_test, y_train, y_test = train_test_split(X, y, \n",
    "                                                    test_size=.3, \n",
    "                                                    random_state=40)"
   ]
  },
  {
   "cell_type": "code",
   "execution_count": 61,
   "id": "5bd7bcd6",
   "metadata": {},
   "outputs": [
    {
     "data": {
      "text/plain": [
       "0.8500168022577564"
      ]
     },
     "execution_count": 61,
     "metadata": {},
     "output_type": "execute_result"
    }
   ],
   "source": [
    "#creat the model\n",
    "log_model = LinearRegression()\n",
    "#fit\n",
    "log_model.fit(X_train, y_train)\n",
    "#predict\n",
    "y_pred2 = log_model.predict(X_test)\n",
    "\n",
    "log_model.score(X_test,y_test)"
   ]
  },
  {
   "cell_type": "code",
   "execution_count": 71,
   "id": "500b035f",
   "metadata": {},
   "outputs": [
    {
     "data": {
      "image/png": "[encoded data removed]",
      "text/plain": [
       "<Figure size 432x288 with 1 Axes>"
      ]
     },
     "metadata": {
      "needs_background": "light"
     },
     "output_type": "display_data"
    }
   ],
   "source": [
    "#plot result\n",
    "sns.scatterplot(x = X_test['pca_1'], y= y_pred2, color = \"red\")\n",
    "sns.scatterplot(x = X_test['pca_1'], y= y_test, data= df_pca_dum, color = \"blue\")\n",
    "plt.show()"
   ]
  },
  {
   "cell_type": "markdown",
   "id": "9d4a36c7",
   "metadata": {},
   "source": [
    "### Test avec les données Standardisées"
   ]
  },
  {
   "cell_type": "code",
   "execution_count": 89,
   "id": "f676890e",
   "metadata": {},
   "outputs": [],
   "source": [
    "df_californie_std = pd.read_csv('df_californie_std.csv')"
   ]
  },
  {
   "cell_type": "code",
   "execution_count": 90,
   "id": "73ed0f32",
   "metadata": {},
   "outputs": [
    {
     "data": {
      "text/html": [
       "<div>\n",
       "<style scoped>\n",
       "    .dataframe tbody tr th:only-of-type {\n",
       "        vertical-align: middle;\n",
       "    }\n",
       "\n",
       "    .dataframe tbody tr th {\n",
       "        vertical-align: top;\n",
       "    }\n",
       "\n",
       "    .dataframe thead th {\n",
       "        text-align: right;\n",
       "    }\n",
       "</style>\n",
       "<table border=\"1\" class=\"dataframe\">\n",
       "  <thead>\n",
       "    <tr style=\"text-align: right;\">\n",
       "      <th></th>\n",
       "      <th>longitude</th>\n",
       "      <th>latitude</th>\n",
       "      <th>housing_median_age</th>\n",
       "      <th>total_rooms</th>\n",
       "      <th>total_bedrooms</th>\n",
       "      <th>population</th>\n",
       "      <th>households</th>\n",
       "      <th>median_income</th>\n",
       "      <th>median_house_value</th>\n",
       "      <th>ocean_proximity</th>\n",
       "    </tr>\n",
       "  </thead>\n",
       "  <tbody>\n",
       "    <tr>\n",
       "      <th>0</th>\n",
       "      <td>-0.137635</td>\n",
       "      <td>0.534564</td>\n",
       "      <td>-1.795939</td>\n",
       "      <td>-0.357368</td>\n",
       "      <td>-0.142008</td>\n",
       "      <td>-0.032827</td>\n",
       "      <td>-0.218173</td>\n",
       "      <td>-1.258403</td>\n",
       "      <td>-1.167387</td>\n",
       "      <td>0.091600</td>\n",
       "    </tr>\n",
       "    <tr>\n",
       "      <th>1</th>\n",
       "      <td>0.879836</td>\n",
       "      <td>-0.909979</td>\n",
       "      <td>-1.637178</td>\n",
       "      <td>-0.276515</td>\n",
       "      <td>-0.432723</td>\n",
       "      <td>-0.494784</td>\n",
       "      <td>-0.417841</td>\n",
       "      <td>1.610623</td>\n",
       "      <td>0.586611</td>\n",
       "      <td>-0.904773</td>\n",
       "    </tr>\n",
       "    <tr>\n",
       "      <th>2</th>\n",
       "      <td>-0.312201</td>\n",
       "      <td>0.455091</td>\n",
       "      <td>-0.287715</td>\n",
       "      <td>-0.799127</td>\n",
       "      <td>-0.749228</td>\n",
       "      <td>-0.435204</td>\n",
       "      <td>-0.744572</td>\n",
       "      <td>-1.220425</td>\n",
       "      <td>-1.286288</td>\n",
       "      <td>0.091600</td>\n",
       "    </tr>\n",
       "    <tr>\n",
       "      <th>3</th>\n",
       "      <td>0.620480</td>\n",
       "      <td>-0.713633</td>\n",
       "      <td>0.188566</td>\n",
       "      <td>-0.913406</td>\n",
       "      <td>-0.714061</td>\n",
       "      <td>-0.723603</td>\n",
       "      <td>-0.710862</td>\n",
       "      <td>-1.233736</td>\n",
       "      <td>-0.056493</td>\n",
       "      <td>-0.904773</td>\n",
       "    </tr>\n",
       "    <tr>\n",
       "      <th>4</th>\n",
       "      <td>-0.830911</td>\n",
       "      <td>1.011403</td>\n",
       "      <td>-0.605236</td>\n",
       "      <td>-0.326201</td>\n",
       "      <td>-0.376456</td>\n",
       "      <td>-0.263373</td>\n",
       "      <td>-0.334862</td>\n",
       "      <td>0.114837</td>\n",
       "      <td>-0.769028</td>\n",
       "      <td>0.091600</td>\n",
       "    </tr>\n",
       "    <tr>\n",
       "      <th>...</th>\n",
       "      <td>...</td>\n",
       "      <td>...</td>\n",
       "      <td>...</td>\n",
       "      <td>...</td>\n",
       "      <td>...</td>\n",
       "      <td>...</td>\n",
       "      <td>...</td>\n",
       "      <td>...</td>\n",
       "      <td>...</td>\n",
       "      <td>...</td>\n",
       "    </tr>\n",
       "    <tr>\n",
       "      <th>16507</th>\n",
       "      <td>-1.165080</td>\n",
       "      <td>1.852884</td>\n",
       "      <td>-0.684616</td>\n",
       "      <td>-0.532626</td>\n",
       "      <td>-0.599182</td>\n",
       "      <td>-0.595810</td>\n",
       "      <td>-0.651220</td>\n",
       "      <td>-0.423409</td>\n",
       "      <td>-0.978188</td>\n",
       "      <td>0.091600</td>\n",
       "    </tr>\n",
       "    <tr>\n",
       "      <th>16508</th>\n",
       "      <td>-1.339646</td>\n",
       "      <td>1.161000</td>\n",
       "      <td>1.617410</td>\n",
       "      <td>-0.126100</td>\n",
       "      <td>-0.069329</td>\n",
       "      <td>-0.262510</td>\n",
       "      <td>-0.111856</td>\n",
       "      <td>-0.660681</td>\n",
       "      <td>-0.897475</td>\n",
       "      <td>2.084345</td>\n",
       "    </tr>\n",
       "    <tr>\n",
       "      <th>16509</th>\n",
       "      <td>-0.825923</td>\n",
       "      <td>1.539666</td>\n",
       "      <td>-0.763996</td>\n",
       "      <td>-0.051119</td>\n",
       "      <td>-0.170141</td>\n",
       "      <td>-0.197750</td>\n",
       "      <td>-0.187056</td>\n",
       "      <td>0.333675</td>\n",
       "      <td>-0.120716</td>\n",
       "      <td>0.091600</td>\n",
       "    </tr>\n",
       "    <tr>\n",
       "      <th>16510</th>\n",
       "      <td>0.710257</td>\n",
       "      <td>-0.685584</td>\n",
       "      <td>0.823608</td>\n",
       "      <td>0.059547</td>\n",
       "      <td>0.718417</td>\n",
       "      <td>0.959301</td>\n",
       "      <td>0.704970</td>\n",
       "      <td>-0.680911</td>\n",
       "      <td>-0.460060</td>\n",
       "      <td>-0.904773</td>\n",
       "    </tr>\n",
       "    <tr>\n",
       "      <th>16511</th>\n",
       "      <td>-2.277315</td>\n",
       "      <td>2.418547</td>\n",
       "      <td>0.188566</td>\n",
       "      <td>-0.222311</td>\n",
       "      <td>-0.167797</td>\n",
       "      <td>-0.151986</td>\n",
       "      <td>-0.210394</td>\n",
       "      <td>-0.853741</td>\n",
       "      <td>-1.088410</td>\n",
       "      <td>1.087972</td>\n",
       "    </tr>\n",
       "  </tbody>\n",
       "</table>\n",
       "<p>16512 rows × 10 columns</p>\n",
       "</div>"
      ],
      "text/plain": [
       "       longitude  latitude  housing_median_age  total_rooms  total_bedrooms  \\\n",
       "0      -0.137635  0.534564           -1.795939    -0.357368       -0.142008   \n",
       "1       0.879836 -0.909979           -1.637178    -0.276515       -0.432723   \n",
       "2      -0.312201  0.455091           -0.287715    -0.799127       -0.749228   \n",
       "3       0.620480 -0.713633            0.188566    -0.913406       -0.714061   \n",
       "4      -0.830911  1.011403           -0.605236    -0.326201       -0.376456   \n",
       "...          ...       ...                 ...          ...             ...   \n",
       "16507  -1.165080  1.852884           -0.684616    -0.532626       -0.599182   \n",
       "16508  -1.339646  1.161000            1.617410    -0.126100       -0.069329   \n",
       "16509  -0.825923  1.539666           -0.763996    -0.051119       -0.170141   \n",
       "16510   0.710257 -0.685584            0.823608     0.059547        0.718417   \n",
       "16511  -2.277315  2.418547            0.188566    -0.222311       -0.167797   \n",
       "\n",
       "       population  households  median_income  median_house_value  \\\n",
       "0       -0.032827   -0.218173      -1.258403           -1.167387   \n",
       "1       -0.494784   -0.417841       1.610623            0.586611   \n",
       "2       -0.435204   -0.744572      -1.220425           -1.286288   \n",
       "3       -0.723603   -0.710862      -1.233736           -0.056493   \n",
       "4       -0.263373   -0.334862       0.114837           -0.769028   \n",
       "...           ...         ...            ...                 ...   \n",
       "16507   -0.595810   -0.651220      -0.423409           -0.978188   \n",
       "16508   -0.262510   -0.111856      -0.660681           -0.897475   \n",
       "16509   -0.197750   -0.187056       0.333675           -0.120716   \n",
       "16510    0.959301    0.704970      -0.680911           -0.460060   \n",
       "16511   -0.151986   -0.210394      -0.853741           -1.088410   \n",
       "\n",
       "       ocean_proximity  \n",
       "0             0.091600  \n",
       "1            -0.904773  \n",
       "2             0.091600  \n",
       "3            -0.904773  \n",
       "4             0.091600  \n",
       "...                ...  \n",
       "16507         0.091600  \n",
       "16508         2.084345  \n",
       "16509         0.091600  \n",
       "16510        -0.904773  \n",
       "16511         1.087972  \n",
       "\n",
       "[16512 rows x 10 columns]"
      ]
     },
     "execution_count": 90,
     "metadata": {},
     "output_type": "execute_result"
    }
   ],
   "source": [
    "df_californie_std"
   ]
  },
  {
   "cell_type": "code",
   "execution_count": 91,
   "id": "05f58234",
   "metadata": {},
   "outputs": [],
   "source": [
    "X= df_californie_std.drop('median_house_value', axis=1)\n",
    "y= df_californie_std['median_house_value']\n",
    "\n",
    "# Splitting the data in train and test set\n",
    "X_train, X_test, y_train, y_test = train_test_split(X, y, \n",
    "                                                    test_size=.3, \n",
    "                                                    random_state=40)"
   ]
  },
  {
   "cell_type": "code",
   "execution_count": 92,
   "id": "15fbff6c",
   "metadata": {},
   "outputs": [
    {
     "data": {
      "text/plain": [
       "0.6156028588903351"
      ]
     },
     "execution_count": 92,
     "metadata": {},
     "output_type": "execute_result"
    }
   ],
   "source": [
    "#creat the model\n",
    "log_model = LinearRegression()\n",
    "#fit\n",
    "log_model.fit(X_train, y_train)\n",
    "#predict\n",
    "y_pred4 = log_model.predict(X_test)\n",
    "\n",
    "log_model.score(X_test,y_test)"
   ]
  },
  {
   "cell_type": "code",
   "execution_count": 93,
   "id": "5aa9d5b3",
   "metadata": {},
   "outputs": [
    {
     "data": {
      "image/png": "[encoded data removed]",
      "text/plain": [
       "<Figure size 432x288 with 1 Axes>"
      ]
     },
     "metadata": {
      "needs_background": "light"
     },
     "output_type": "display_data"
    }
   ],
   "source": [
    "#plot result\n",
    "sns.scatterplot(x = X_test['median_income'], y= y_pred4, color = \"red\")\n",
    "sns.scatterplot(x = X_test['median_income'], y= y_test, data= df_californie_std, color = \"blue\")\n",
    "plt.show()"
   ]
  },
  {
   "cell_type": "markdown",
   "id": "5c5f59f2",
   "metadata": {},
   "source": [
    "La méthode standardisée fonctionne moins bien que la PCA."
   ]
  },
  {
   "cell_type": "code",
   "execution_count": null,
   "id": "d732dde8",
   "metadata": {},
   "outputs": [],
   "source": []
  },
  {
   "cell_type": "code",
   "execution_count": null,
   "id": "1ae8ef04",
   "metadata": {},
   "outputs": [],
   "source": []
  },
  {
   "cell_type": "code",
   "execution_count": null,
   "id": "f69d5bf8",
   "metadata": {},
   "outputs": [],
   "source": []
  },
  {
   "cell_type": "code",
   "execution_count": null,
   "id": "f7a4740e",
   "metadata": {},
   "outputs": [],
   "source": []
  },
  {
   "cell_type": "code",
   "execution_count": null,
   "id": "c67be293",
   "metadata": {},
   "outputs": [],
   "source": []
  },
  {
   "cell_type": "code",
   "execution_count": null,
   "id": "cb956e5f",
   "metadata": {},
   "outputs": [],
   "source": []
  },
  {
   "cell_type": "code",
   "execution_count": null,
   "id": "bdc70de1",
   "metadata": {},
   "outputs": [],
   "source": []
  }
 ],
 "metadata": {
  "kernelspec": {
   "display_name": "Python 3",
   "language": "python",
   "name": "python3"
  },
  "language_info": {
   "codemirror_mode": {
    "name": "ipython",
    "version": 3
   },
   "file_extension": ".py",
   "mimetype": "text/x-python",
   "name": "python",
   "nbconvert_exporter": "python",
   "pygments_lexer": "ipython3",
   "version": "3.8.8"
  }
 },
 "nbformat": 4,
 "nbformat_minor": 5
}
