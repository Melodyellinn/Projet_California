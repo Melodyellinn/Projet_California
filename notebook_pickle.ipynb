{
 "cells": [
  {
   "cell_type": "markdown",
   "id": "db286a21",
   "metadata": {},
   "source": [
    "# Création du pickle"
   ]
  },
  {
   "cell_type": "code",
   "execution_count": 16,
   "id": "99412ce4",
   "metadata": {},
   "outputs": [],
   "source": [
    "# Import des librairies\n",
    "import numpy as np\n",
    "import pandas as pd\n",
    "import seaborn as sns\n",
    "import matplotlib.pyplot as plt\n",
    "#RegLog Kmeans\n",
    "from sklearn.cluster import KMeans\n",
    "from sklearn import decomposition\n",
    "from sklearn import preprocessing\n",
    "from sklearn.model_selection import train_test_split\n",
    "from sklearn.linear_model import LinearRegression\n",
    "from sklearn.metrics import confusion_matrix\n",
    "import sklearn.metrics as metrics\n",
    "from sklearn.metrics import mean_squared_error\n",
    "#pickle\n",
    "import pickle"
   ]
  },
  {
   "cell_type": "code",
   "execution_count": 12,
   "id": "e9e54793",
   "metadata": {},
   "outputs": [
    {
     "data": {
      "text/html": [
       "<div>\n",
       "<style scoped>\n",
       "    .dataframe tbody tr th:only-of-type {\n",
       "        vertical-align: middle;\n",
       "    }\n",
       "\n",
       "    .dataframe tbody tr th {\n",
       "        vertical-align: top;\n",
       "    }\n",
       "\n",
       "    .dataframe thead th {\n",
       "        text-align: right;\n",
       "    }\n",
       "</style>\n",
       "<table border=\"1\" class=\"dataframe\">\n",
       "  <thead>\n",
       "    <tr style=\"text-align: right;\">\n",
       "      <th></th>\n",
       "      <th>pca_1</th>\n",
       "      <th>pca_2</th>\n",
       "      <th>pca_3</th>\n",
       "      <th>pca_4</th>\n",
       "      <th>target</th>\n",
       "    </tr>\n",
       "  </thead>\n",
       "  <tbody>\n",
       "    <tr>\n",
       "      <th>0</th>\n",
       "      <td>-0.153969</td>\n",
       "      <td>0.493882</td>\n",
       "      <td>-1.786418</td>\n",
       "      <td>-1.574324</td>\n",
       "      <td>72000.0</td>\n",
       "    </tr>\n",
       "    <tr>\n",
       "      <th>1</th>\n",
       "      <td>-0.088298</td>\n",
       "      <td>-1.825536</td>\n",
       "      <td>1.325224</td>\n",
       "      <td>-1.818578</td>\n",
       "      <td>274100.0</td>\n",
       "    </tr>\n",
       "    <tr>\n",
       "      <th>2</th>\n",
       "      <td>-1.451642</td>\n",
       "      <td>0.449548</td>\n",
       "      <td>-1.683137</td>\n",
       "      <td>-0.522503</td>\n",
       "      <td>58300.0</td>\n",
       "    </tr>\n",
       "    <tr>\n",
       "      <th>3</th>\n",
       "      <td>-1.414284</td>\n",
       "      <td>-1.370008</td>\n",
       "      <td>-0.949905</td>\n",
       "      <td>0.057555</td>\n",
       "      <td>200000.0</td>\n",
       "    </tr>\n",
       "    <tr>\n",
       "      <th>4</th>\n",
       "      <td>-0.687402</td>\n",
       "      <td>1.107444</td>\n",
       "      <td>-0.381355</td>\n",
       "      <td>-1.056242</td>\n",
       "      <td>117900.0</td>\n",
       "    </tr>\n",
       "    <tr>\n",
       "      <th>...</th>\n",
       "      <td>...</td>\n",
       "      <td>...</td>\n",
       "      <td>...</td>\n",
       "      <td>...</td>\n",
       "      <td>...</td>\n",
       "    </tr>\n",
       "    <tr>\n",
       "      <th>16507</th>\n",
       "      <td>-1.329967</td>\n",
       "      <td>1.806627</td>\n",
       "      <td>-0.842595</td>\n",
       "      <td>-1.373061</td>\n",
       "      <td>93800.0</td>\n",
       "    </tr>\n",
       "    <tr>\n",
       "      <th>16508</th>\n",
       "      <td>-1.055960</td>\n",
       "      <td>2.571173</td>\n",
       "      <td>-0.684864</td>\n",
       "      <td>1.627500</td>\n",
       "      <td>103100.0</td>\n",
       "    </tr>\n",
       "    <tr>\n",
       "      <th>16509</th>\n",
       "      <td>-0.321045</td>\n",
       "      <td>1.431865</td>\n",
       "      <td>0.205324</td>\n",
       "      <td>-1.207103</td>\n",
       "      <td>192600.0</td>\n",
       "    </tr>\n",
       "    <tr>\n",
       "      <th>16510</th>\n",
       "      <td>1.110756</td>\n",
       "      <td>-0.987009</td>\n",
       "      <td>-1.008277</td>\n",
       "      <td>0.982062</td>\n",
       "      <td>153500.0</td>\n",
       "    </tr>\n",
       "    <tr>\n",
       "      <th>16511</th>\n",
       "      <td>-0.979238</td>\n",
       "      <td>3.471897</td>\n",
       "      <td>-1.025528</td>\n",
       "      <td>-0.301414</td>\n",
       "      <td>81100.0</td>\n",
       "    </tr>\n",
       "  </tbody>\n",
       "</table>\n",
       "<p>16512 rows × 5 columns</p>\n",
       "</div>"
      ],
      "text/plain": [
       "          pca_1     pca_2     pca_3     pca_4    target\n",
       "0     -0.153969  0.493882 -1.786418 -1.574324   72000.0\n",
       "1     -0.088298 -1.825536  1.325224 -1.818578  274100.0\n",
       "2     -1.451642  0.449548 -1.683137 -0.522503   58300.0\n",
       "3     -1.414284 -1.370008 -0.949905  0.057555  200000.0\n",
       "4     -0.687402  1.107444 -0.381355 -1.056242  117900.0\n",
       "...         ...       ...       ...       ...       ...\n",
       "16507 -1.329967  1.806627 -0.842595 -1.373061   93800.0\n",
       "16508 -1.055960  2.571173 -0.684864  1.627500  103100.0\n",
       "16509 -0.321045  1.431865  0.205324 -1.207103  192600.0\n",
       "16510  1.110756 -0.987009 -1.008277  0.982062  153500.0\n",
       "16511 -0.979238  3.471897 -1.025528 -0.301414   81100.0\n",
       "\n",
       "[16512 rows x 5 columns]"
      ]
     },
     "execution_count": 12,
     "metadata": {},
     "output_type": "execute_result"
    }
   ],
   "source": [
    "#import données sous PCA\n",
    "df_pca = pd.read_csv('model_ML/californie_df_pca.csv')\n",
    "df_pca"
   ]
  },
  {
   "cell_type": "code",
   "execution_count": 13,
   "id": "e1e0cc67",
   "metadata": {},
   "outputs": [],
   "source": [
    "X= df_pca.drop('target', axis=1)\n",
    "y= df_pca['target']\n",
    "\n",
    "# Splitting the data in train and test set\n",
    "X_train, X_test, y_train, y_test = train_test_split(X, y, \n",
    "                                                    test_size=.3, \n",
    "                                                    random_state=40)"
   ]
  },
  {
   "cell_type": "code",
   "execution_count": 14,
   "id": "c78af990",
   "metadata": {},
   "outputs": [
    {
     "data": {
      "text/plain": [
       "0.8710568762342062"
      ]
     },
     "execution_count": 14,
     "metadata": {},
     "output_type": "execute_result"
    }
   ],
   "source": [
    "#create the model\n",
    "log_model_pca = LinearRegression()\n",
    "#fit\n",
    "log_model_pca.fit(X_train, y_train)\n",
    "#predict\n",
    "y_pred1 = log_model_pca.predict(X_test)\n",
    "\n",
    "log_model_pca.score(X_test,y_test)"
   ]
  },
  {
   "cell_type": "code",
   "execution_count": 15,
   "id": "ad6f04c5",
   "metadata": {},
   "outputs": [
    {
     "data": {
      "text/plain": [
       "LinearRegression()"
      ]
     },
     "execution_count": 15,
     "metadata": {},
     "output_type": "execute_result"
    }
   ],
   "source": [
    "log_model_pca"
   ]
  },
  {
   "cell_type": "code",
   "execution_count": 19,
   "id": "bf995c8a",
   "metadata": {},
   "outputs": [],
   "source": [
    "#export model to pickle\n",
    "model= 'finalized_model.sav'\n",
    "pickle.dump(log_model_pca, open(model, 'wb'))"
   ]
  },
  {
   "cell_type": "code",
   "execution_count": 20,
   "id": "d161d9f0",
   "metadata": {},
   "outputs": [],
   "source": [
    "pickle.dump(X_test, open('xtest.sav','wb'))"
   ]
  },
  {
   "cell_type": "code",
   "execution_count": 21,
   "id": "e98ba686",
   "metadata": {},
   "outputs": [],
   "source": [
    "pickle.dump(y_test, open('ytest.sav','wb'))"
   ]
  },
  {
   "cell_type": "code",
   "execution_count": null,
   "id": "acff48ba",
   "metadata": {},
   "outputs": [],
   "source": []
  }
 ],
 "metadata": {
  "kernelspec": {
   "display_name": "Python 3",
   "language": "python",
   "name": "python3"
  },
  "language_info": {
   "codemirror_mode": {
    "name": "ipython",
    "version": 3
   },
   "file_extension": ".py",
   "mimetype": "text/x-python",
   "name": "python",
   "nbconvert_exporter": "python",
   "pygments_lexer": "ipython3",
   "version": "3.8.8"
  }
 },
 "nbformat": 4,
 "nbformat_minor": 5
}
