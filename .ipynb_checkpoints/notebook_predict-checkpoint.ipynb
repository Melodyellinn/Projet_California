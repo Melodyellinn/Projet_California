{
 "cells": [
  {
   "cell_type": "markdown",
   "id": "a3d70280",
   "metadata": {},
   "source": [
    "# Proposition d'un protocole d'utilisation du modèle "
   ]
  },
  {
   "cell_type": "code",
   "execution_count": 13,
   "id": "4f54d947",
   "metadata": {},
   "outputs": [],
   "source": [
    "import numpy as np\n",
    "import seaborn as sns\n",
    "import matplotlib.pyplot as plt\n",
    "import pickle\n",
    "import pandas as pd\n",
    "from sklearn.preprocessing import scale\n",
    "\n",
    "pca = pickle.load(open(\"pca_4_comp.sav\",'rb'))\n",
    "loaded_model = pickle.load(open('finalized_model.sav', 'rb'))"
   ]
  },
  {
   "cell_type": "code",
   "execution_count": 92,
   "id": "f60852f1",
   "metadata": {},
   "outputs": [],
   "source": [
    "#insérez vos donnée ici : \n",
    "path_ = \"\"\n",
    "df = pd.read_csv(path_)"
   ]
  },
  {
   "cell_type": "code",
   "execution_count": 96,
   "id": "8ef0726d",
   "metadata": {},
   "outputs": [],
   "source": [
    "#Réexécution EDA et model\n",
    "df = df.copy()\n",
    "df = df.drop(\"Unnamed: 0\",axis=1)\n",
    "df = df.dropna(axis=0)\n",
    "mapping_ocean =  {'<1H OCEAN': 1,'INLAND': 2, 'NEAR OCEAN': 3, 'NEAR BAY': 4, 'ISLAND': 5}\n",
    "df['ocean_proximity'] = df['ocean_proximity'].map(mapping_ocean)\n",
    "y = df['median_house_value']\n",
    "\n",
    "df_pca = pd.DataFrame(pca.transform(scale(df)), columns = ['pca_1',\"pca_2\",\"pca_3\",\"pca_4\"])\n",
    "\n",
    "X = df_pca"
   ]
  },
  {
   "cell_type": "code",
   "execution_count": 97,
   "id": "3d2a7d30",
   "metadata": {},
   "outputs": [
    {
     "name": "stdout",
     "output_type": "stream",
     "text": [
      "0.8716427652913148\n"
     ]
    }
   ],
   "source": [
    "#y_test_load = pickle.load(open('ytest.sav', 'rb'))\n",
    "#x_test_load = pickle.load(open('xtest.sav', 'rb'))\n",
    "\n",
    "prediction = loaded_model.predict(X)\n",
    "R2_score = loaded_model.score(X, y)\n",
    "print(R2_score)"
   ]
  },
  {
   "cell_type": "code",
   "execution_count": null,
   "id": "40d6ce79",
   "metadata": {},
   "outputs": [],
   "source": []
  }
 ],
 "metadata": {
  "kernelspec": {
   "display_name": "Python 3",
   "language": "python",
   "name": "python3"
  },
  "language_info": {
   "codemirror_mode": {
    "name": "ipython",
    "version": 3
   },
   "file_extension": ".py",
   "mimetype": "text/x-python",
   "name": "python",
   "nbconvert_exporter": "python",
   "pygments_lexer": "ipython3",
   "version": "3.8.8"
  }
 },
 "nbformat": 4,
 "nbformat_minor": 5
}
