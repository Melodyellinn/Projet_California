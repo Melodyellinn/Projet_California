{
 "cells": [
  {
   "cell_type": "code",
   "execution_count": 1,
   "id": "aa22b84d",
   "metadata": {},
   "outputs": [],
   "source": [
    "import pandas as pd"
   ]
  },
  {
   "cell_type": "code",
   "execution_count": 2,
   "id": "29e6820b",
   "metadata": {},
   "outputs": [],
   "source": [
    "californie = pd.read_csv('housing_test_data.csv')"
   ]
  },
  {
   "cell_type": "code",
   "execution_count": 3,
   "id": "c5bbd6d7",
   "metadata": {},
   "outputs": [
    {
     "data": {
      "text/html": [
       "<div>\n",
       "<style scoped>\n",
       "    .dataframe tbody tr th:only-of-type {\n",
       "        vertical-align: middle;\n",
       "    }\n",
       "\n",
       "    .dataframe tbody tr th {\n",
       "        vertical-align: top;\n",
       "    }\n",
       "\n",
       "    .dataframe thead th {\n",
       "        text-align: right;\n",
       "    }\n",
       "</style>\n",
       "<table border=\"1\" class=\"dataframe\">\n",
       "  <thead>\n",
       "    <tr style=\"text-align: right;\">\n",
       "      <th></th>\n",
       "      <th>Unnamed: 0</th>\n",
       "      <th>longitude</th>\n",
       "      <th>latitude</th>\n",
       "      <th>housing_median_age</th>\n",
       "      <th>total_rooms</th>\n",
       "      <th>total_bedrooms</th>\n",
       "      <th>population</th>\n",
       "      <th>households</th>\n",
       "      <th>median_income</th>\n",
       "      <th>median_house_value</th>\n",
       "      <th>ocean_proximity</th>\n",
       "    </tr>\n",
       "  </thead>\n",
       "  <tbody>\n",
       "    <tr>\n",
       "      <th>0</th>\n",
       "      <td>4712</td>\n",
       "      <td>-118.36</td>\n",
       "      <td>34.06</td>\n",
       "      <td>39.0</td>\n",
       "      <td>2810.0</td>\n",
       "      <td>670.0</td>\n",
       "      <td>1109.0</td>\n",
       "      <td>624.0</td>\n",
       "      <td>3.2500</td>\n",
       "      <td>355000.0</td>\n",
       "      <td>&lt;1H OCEAN</td>\n",
       "    </tr>\n",
       "    <tr>\n",
       "      <th>1</th>\n",
       "      <td>2151</td>\n",
       "      <td>-119.78</td>\n",
       "      <td>36.78</td>\n",
       "      <td>37.0</td>\n",
       "      <td>2185.0</td>\n",
       "      <td>455.0</td>\n",
       "      <td>1143.0</td>\n",
       "      <td>438.0</td>\n",
       "      <td>1.9784</td>\n",
       "      <td>70700.0</td>\n",
       "      <td>INLAND</td>\n",
       "    </tr>\n",
       "    <tr>\n",
       "      <th>2</th>\n",
       "      <td>15927</td>\n",
       "      <td>-122.42</td>\n",
       "      <td>37.73</td>\n",
       "      <td>46.0</td>\n",
       "      <td>1819.0</td>\n",
       "      <td>411.0</td>\n",
       "      <td>1534.0</td>\n",
       "      <td>406.0</td>\n",
       "      <td>4.0132</td>\n",
       "      <td>229400.0</td>\n",
       "      <td>NEAR BAY</td>\n",
       "    </tr>\n",
       "    <tr>\n",
       "      <th>3</th>\n",
       "      <td>82</td>\n",
       "      <td>-122.28</td>\n",
       "      <td>37.81</td>\n",
       "      <td>52.0</td>\n",
       "      <td>340.0</td>\n",
       "      <td>97.0</td>\n",
       "      <td>200.0</td>\n",
       "      <td>87.0</td>\n",
       "      <td>1.5208</td>\n",
       "      <td>112500.0</td>\n",
       "      <td>NEAR BAY</td>\n",
       "    </tr>\n",
       "    <tr>\n",
       "      <th>4</th>\n",
       "      <td>8161</td>\n",
       "      <td>-118.13</td>\n",
       "      <td>33.82</td>\n",
       "      <td>37.0</td>\n",
       "      <td>1530.0</td>\n",
       "      <td>290.0</td>\n",
       "      <td>711.0</td>\n",
       "      <td>283.0</td>\n",
       "      <td>5.1795</td>\n",
       "      <td>225400.0</td>\n",
       "      <td>&lt;1H OCEAN</td>\n",
       "    </tr>\n",
       "    <tr>\n",
       "      <th>...</th>\n",
       "      <td>...</td>\n",
       "      <td>...</td>\n",
       "      <td>...</td>\n",
       "      <td>...</td>\n",
       "      <td>...</td>\n",
       "      <td>...</td>\n",
       "      <td>...</td>\n",
       "      <td>...</td>\n",
       "      <td>...</td>\n",
       "      <td>...</td>\n",
       "      <td>...</td>\n",
       "    </tr>\n",
       "    <tr>\n",
       "      <th>4123</th>\n",
       "      <td>2319</td>\n",
       "      <td>-119.70</td>\n",
       "      <td>36.82</td>\n",
       "      <td>25.0</td>\n",
       "      <td>2379.0</td>\n",
       "      <td>540.0</td>\n",
       "      <td>1482.0</td>\n",
       "      <td>484.0</td>\n",
       "      <td>2.3173</td>\n",
       "      <td>68200.0</td>\n",
       "      <td>INLAND</td>\n",
       "    </tr>\n",
       "    <tr>\n",
       "      <th>4124</th>\n",
       "      <td>5341</td>\n",
       "      <td>-118.44</td>\n",
       "      <td>34.04</td>\n",
       "      <td>49.0</td>\n",
       "      <td>32.0</td>\n",
       "      <td>7.0</td>\n",
       "      <td>14.0</td>\n",
       "      <td>7.0</td>\n",
       "      <td>2.1875</td>\n",
       "      <td>225000.0</td>\n",
       "      <td>&lt;1H OCEAN</td>\n",
       "    </tr>\n",
       "    <tr>\n",
       "      <th>4125</th>\n",
       "      <td>16888</td>\n",
       "      <td>-122.37</td>\n",
       "      <td>37.60</td>\n",
       "      <td>26.0</td>\n",
       "      <td>15.0</td>\n",
       "      <td>3.0</td>\n",
       "      <td>11.0</td>\n",
       "      <td>3.0</td>\n",
       "      <td>5.0480</td>\n",
       "      <td>350000.0</td>\n",
       "      <td>NEAR OCEAN</td>\n",
       "    </tr>\n",
       "    <tr>\n",
       "      <th>4126</th>\n",
       "      <td>6823</td>\n",
       "      <td>-118.10</td>\n",
       "      <td>34.09</td>\n",
       "      <td>42.0</td>\n",
       "      <td>1460.0</td>\n",
       "      <td>289.0</td>\n",
       "      <td>829.0</td>\n",
       "      <td>273.0</td>\n",
       "      <td>4.8750</td>\n",
       "      <td>227300.0</td>\n",
       "      <td>&lt;1H OCEAN</td>\n",
       "    </tr>\n",
       "    <tr>\n",
       "      <th>4127</th>\n",
       "      <td>11878</td>\n",
       "      <td>-117.38</td>\n",
       "      <td>33.99</td>\n",
       "      <td>52.0</td>\n",
       "      <td>1797.0</td>\n",
       "      <td>332.0</td>\n",
       "      <td>905.0</td>\n",
       "      <td>313.0</td>\n",
       "      <td>2.7054</td>\n",
       "      <td>141700.0</td>\n",
       "      <td>INLAND</td>\n",
       "    </tr>\n",
       "  </tbody>\n",
       "</table>\n",
       "<p>4128 rows × 11 columns</p>\n",
       "</div>"
      ],
      "text/plain": [
       "      Unnamed: 0  longitude  latitude  housing_median_age  total_rooms  \\\n",
       "0           4712    -118.36     34.06                39.0       2810.0   \n",
       "1           2151    -119.78     36.78                37.0       2185.0   \n",
       "2          15927    -122.42     37.73                46.0       1819.0   \n",
       "3             82    -122.28     37.81                52.0        340.0   \n",
       "4           8161    -118.13     33.82                37.0       1530.0   \n",
       "...          ...        ...       ...                 ...          ...   \n",
       "4123        2319    -119.70     36.82                25.0       2379.0   \n",
       "4124        5341    -118.44     34.04                49.0         32.0   \n",
       "4125       16888    -122.37     37.60                26.0         15.0   \n",
       "4126        6823    -118.10     34.09                42.0       1460.0   \n",
       "4127       11878    -117.38     33.99                52.0       1797.0   \n",
       "\n",
       "      total_bedrooms  population  households  median_income  \\\n",
       "0              670.0      1109.0       624.0         3.2500   \n",
       "1              455.0      1143.0       438.0         1.9784   \n",
       "2              411.0      1534.0       406.0         4.0132   \n",
       "3               97.0       200.0        87.0         1.5208   \n",
       "4              290.0       711.0       283.0         5.1795   \n",
       "...              ...         ...         ...            ...   \n",
       "4123           540.0      1482.0       484.0         2.3173   \n",
       "4124             7.0        14.0         7.0         2.1875   \n",
       "4125             3.0        11.0         3.0         5.0480   \n",
       "4126           289.0       829.0       273.0         4.8750   \n",
       "4127           332.0       905.0       313.0         2.7054   \n",
       "\n",
       "      median_house_value ocean_proximity  \n",
       "0               355000.0       <1H OCEAN  \n",
       "1                70700.0          INLAND  \n",
       "2               229400.0        NEAR BAY  \n",
       "3               112500.0        NEAR BAY  \n",
       "4               225400.0       <1H OCEAN  \n",
       "...                  ...             ...  \n",
       "4123             68200.0          INLAND  \n",
       "4124            225000.0       <1H OCEAN  \n",
       "4125            350000.0      NEAR OCEAN  \n",
       "4126            227300.0       <1H OCEAN  \n",
       "4127            141700.0          INLAND  \n",
       "\n",
       "[4128 rows x 11 columns]"
      ]
     },
     "execution_count": 3,
     "metadata": {},
     "output_type": "execute_result"
    }
   ],
   "source": [
    "californie"
   ]
  },
  {
   "cell_type": "code",
   "execution_count": 5,
   "id": "6da585a7",
   "metadata": {},
   "outputs": [
    {
     "name": "stdout",
     "output_type": "stream",
     "text": [
      "<class 'pandas.core.frame.DataFrame'>\n",
      "RangeIndex: 4128 entries, 0 to 4127\n",
      "Data columns (total 11 columns):\n",
      " #   Column              Non-Null Count  Dtype  \n",
      "---  ------              --------------  -----  \n",
      " 0   Unnamed: 0          4128 non-null   int64  \n",
      " 1   longitude           4128 non-null   float64\n",
      " 2   latitude            4128 non-null   float64\n",
      " 3   housing_median_age  4128 non-null   float64\n",
      " 4   total_rooms         4128 non-null   float64\n",
      " 5   total_bedrooms      4084 non-null   float64\n",
      " 6   population          4128 non-null   float64\n",
      " 7   households          4128 non-null   float64\n",
      " 8   median_income       4128 non-null   float64\n",
      " 9   median_house_value  4128 non-null   float64\n",
      " 10  ocean_proximity     4128 non-null   object \n",
      "dtypes: float64(9), int64(1), object(1)\n",
      "memory usage: 354.9+ KB\n"
     ]
    }
   ],
   "source": [
    "californie.info()"
   ]
  },
  {
   "cell_type": "code",
   "execution_count": 11,
   "id": "dfed53db",
   "metadata": {},
   "outputs": [
    {
     "data": {
      "text/plain": [
       "Unnamed: 0  longitude  latitude  housing_median_age  total_rooms  total_bedrooms  population  households  median_income  median_house_value  ocean_proximity\n",
       "False       False      False     False               False        False           False       False       False          False               False              4084\n",
       "                                                                  True            False       False       False          False               False                44\n",
       "dtype: int64"
      ]
     },
     "execution_count": 11,
     "metadata": {},
     "output_type": "execute_result"
    }
   ],
   "source": [
    "californie.isnull().value_counts()"
   ]
  },
  {
   "cell_type": "code",
   "execution_count": 12,
   "id": "461d215d",
   "metadata": {},
   "outputs": [],
   "source": [
    "df_californie = californie.dropna()"
   ]
  },
  {
   "cell_type": "code",
   "execution_count": 13,
   "id": "9a9db33d",
   "metadata": {},
   "outputs": [
    {
     "data": {
      "text/plain": [
       "(4084, 11)"
      ]
     },
     "execution_count": 13,
     "metadata": {},
     "output_type": "execute_result"
    }
   ],
   "source": [
    "df_californie.shape"
   ]
  },
  {
   "cell_type": "code",
   "execution_count": 15,
   "id": "64163365",
   "metadata": {},
   "outputs": [
    {
     "data": {
      "text/plain": [
       "Unnamed: 0  longitude  latitude  housing_median_age  total_rooms  total_bedrooms  population  households  median_income  median_house_value  ocean_proximity\n",
       "False       False      False     False               False        False           False       False       False          False               False              4084\n",
       "dtype: int64"
      ]
     },
     "execution_count": 15,
     "metadata": {},
     "output_type": "execute_result"
    }
   ],
   "source": [
    "df_californie.isnull().value_counts()"
   ]
  },
  {
   "cell_type": "code",
   "execution_count": null,
   "id": "da2ff130",
   "metadata": {},
   "outputs": [],
   "source": []
  }
 ],
 "metadata": {
  "kernelspec": {
   "display_name": "Python 3",
   "language": "python",
   "name": "python3"
  },
  "language_info": {
   "codemirror_mode": {
    "name": "ipython",
    "version": 3
   },
   "file_extension": ".py",
   "mimetype": "text/x-python",
   "name": "python",
   "nbconvert_exporter": "python",
   "pygments_lexer": "ipython3",
   "version": "3.8.8"
  }
 },
 "nbformat": 4,
 "nbformat_minor": 5
}
